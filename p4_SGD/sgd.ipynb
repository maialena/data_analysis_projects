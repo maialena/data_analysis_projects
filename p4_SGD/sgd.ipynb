{
 "cells": [
  {
   "cell_type": "markdown",
   "metadata": {},
   "source": [
    "# Stochastic, Batch, & Mini Gradient Descent"
   ]
  },
  {
   "cell_type": "markdown",
   "metadata": {
    "collapsed": false
   },
   "source": [
    "by Maia Rosengarten <br/>\n",
    "Summer 2017"
   ]
  },
  {
   "cell_type": "code",
   "execution_count": 2,
   "metadata": {
    "collapsed": false
   },
   "outputs": [],
   "source": [
    "import matplotlib\n",
    "import numpy as np\n",
    "from numpy import linalg as LA\n",
    "import matplotlib.cm as cm\n",
    "import matplotlib.mlab as mlab\n",
    "import matplotlib.pyplot as plt\n",
    "import math\n",
    "import scipy as sp\n",
    "from scipy.stats import logistic as sig\n",
    "\n",
    "np.set_printoptions(threshold=np.nan)\n",
    "from scipy import io\n",
    "import sklearn\n",
    "from sklearn.preprocessing import normalize\n",
    "import csv\n",
    "from sklearn.model_selection import train_test_split\n",
    "from sklearn.metrics import accuracy_score\n",
    "%matplotlib inline"
   ]
  },
  {
   "cell_type": "code",
   "execution_count": 4,
   "metadata": {
    "collapsed": false
   },
   "outputs": [],
   "source": [
    "def computeCost(X, y, w, regConst):\n",
    "    prob = sp.special.expit(np.dot(X, w))\n",
    "    ret = 1/X.shape[0] * (regConst * np.linalg.norm(w)**2) - (vec(y).T.dot(np.log(prob + 0.000001)) + (1-vec(y)).T.dot(np.log(1 - prob + 0.000001)))\n",
    "    return arr(ret)"
   ]
  },
  {
   "cell_type": "code",
   "execution_count": 5,
   "metadata": {
    "collapsed": true
   },
   "outputs": [],
   "source": [
    "def computeSGDGradient(X,  y, w, regConst, i):\n",
    "    n = X.shape[0]\n",
    "    prob = sp.special.expit(X[i].T.dot(w))\n",
    "    ret =  (2 * regConst * w) - (vec(y[i] - prob) * vec(X[i]))  \n",
    "    return ret"
   ]
  },
  {
   "cell_type": "code",
   "execution_count": 6,
   "metadata": {
    "collapsed": false
   },
   "outputs": [],
   "source": [
    "def computeBatchGradient(X, y, w, regConst, prob):\n",
    "    n = X.shape[0]\n",
    "    y = vec(y)\n",
    "    w = vec(w)\n",
    "    prob = vec(prob)\n",
    "    ret= (2 * regConst * w) - (X.T.dot(y-prob))\n",
    "    return ret"
   ]
  },
  {
   "cell_type": "code",
   "execution_count": 34,
   "metadata": {
    "collapsed": true
   },
   "outputs": [],
   "source": [
    "def arr(vec): # 1 by d --> (d, )\n",
    "    return vec.flatten()"
   ]
  },
  {
   "cell_type": "code",
   "execution_count": 35,
   "metadata": {
    "collapsed": true
   },
   "outputs": [],
   "source": [
    "def vec(arr): # d b 1 --> (d, 1)\n",
    "    return arr.reshape((arr.shape[0], 1))"
   ]
  },
  {
   "cell_type": "code",
   "execution_count": 9,
   "metadata": {
    "collapsed": false
   },
   "outputs": [],
   "source": [
    "def computeStochGradientDescent(X, y, alpha, regConst, numIterations, dec):\n",
    "    '''Computes stochastic gradient descent\n",
    "    Args: \n",
    "        X (ndarray) - training data\n",
    "        y (ndarray) - training labels\n",
    "        alpha (int) - learning rate\n",
    "        precision (int) - used for termination condition\n",
    "        numFeat (int) - number of features\n",
    "    Returns updated weight vector and lst of costs per iteration\n",
    "    ''' \n",
    "    w = np.zeros((X.shape[1], 1))\n",
    "    costs = [0 for i in range(numIterations)]\n",
    "    for i in range(numIterations):\n",
    "        ran = np.random.randint(0, X.shape[0])\n",
    "        costs[i] = computeCost(X, y, w, regConst)[0] \n",
    "        w = w - alpha * computeSGDGradient(X,  y, w, regConst, ran)\n",
    "        if dec==True and i!=0:\n",
    "            alpha = 1/(.001 + i)\n",
    "    return w, costs"
   ]
  },
  {
   "cell_type": "code",
   "execution_count": 10,
   "metadata": {
    "collapsed": false
   },
   "outputs": [],
   "source": [
    "def computeBatchGradientDescent(X, y, alpha, regConst, numIterations):\n",
    "    '''\n",
    "        Computes batch gradient descent\n",
    "        Args: \n",
    "            X (ndarray) - training data\n",
    "            y (ndarray) - training labels\n",
    "            alpha (int) - learning rate\n",
    "            regConst (int) - lambda parameter to weight l2 regularization term\n",
    "            precision (int) - used for termination condition\n",
    "            numFeat (int) - number of features\n",
    "        Returns updated weight vector and number of iterations\n",
    "    ''' \n",
    "    w = np.zeros((X.shape[1], 1))\n",
    "    costs = [0 for i in range(numIterations)]\n",
    "    for i in range(numIterations):\n",
    "        costs[i] = computeCost(X, y, w, regConst)[0]\n",
    "        w -= alpha * ((2 * regConst * w) - (np.dot(X.T, vec(y)-np.reshape(sp.special.expit(np.dot(X, w)), (X.shape[0], 1)))))\n",
    "    return w, costs"
   ]
  },
  {
   "cell_type": "code",
   "execution_count": 11,
   "metadata": {
    "collapsed": true
   },
   "outputs": [],
   "source": [
    "def plotCostFN(costs):\n",
    "    '''\n",
    "        Plots cost function as a function of number of iterations\n",
    "        Args:\n",
    "            costs (ndarray) - lst of costs per iteration of gradient descent\n",
    "    '''\n",
    "   \n",
    "    iters = [i for i in range(len(costs))]\n",
    "    plt.plot(iters, costs)\n",
    "    plt.xscale(\"log\")\n",
    "    plt.title(\"Cost Per Iteration of Gradient Descent\")\n",
    "    plt.xlabel('numIterations')\n",
    "    plt.ylabel('cost')\n",
    "    plt.show()"
   ]
  },
  {
   "cell_type": "code",
   "execution_count": 12,
   "metadata": {
    "collapsed": true
   },
   "outputs": [],
   "source": [
    "def classifyPoints(weightVect, data):\n",
    "    '''\n",
    "        Given data, computes sigmoid to approximate likelihood of being in class 1. If greater than 0.5->class1, else class0\n",
    "    \n",
    "    '''\n",
    "    predictions = [0 for i in range(data.shape[0])]\n",
    "    for x in range(data.shape[0]):\n",
    "        prob = sp.special.expit(vec(data[x]).T.dot(weightVect))\n",
    "        if prob > 0.5:\n",
    "            predictions[x] = 1\n",
    "    return predictions"
   ]
  },
  {
   "cell_type": "code",
   "execution_count": 13,
   "metadata": {
    "collapsed": false
   },
   "outputs": [],
   "source": [
    "def computeAcc(predictions, validY):\n",
    "    '''\n",
    "        Given predicted labels and valid labels, compute error rate\n",
    "    '''\n",
    "    return acc(validY, predictions)   "
   ]
  },
  {
   "cell_type": "code",
   "execution_count": 14,
   "metadata": {
    "collapsed": true
   },
   "outputs": [],
   "source": [
    "def generateCsv(aryPredictions, strCsvName):\n",
    "    '''\n",
    "    Writes predictions of testSet to csv file\n",
    "    Args:\n",
    "        aryPredictions (ndarray) - (nx1)-array of predictions given size n test (or valid) set\n",
    "        strCsvName (str) - name of csv file to write to\n",
    "    '''\n",
    "    with open(strCsvName + '.csv', 'w') as csvfile:\n",
    "        writer = csv.writer(csvfile)\n",
    "        for i in range(len(aryPredictions)):\n",
    "            writer.writerow([i, aryPredictions[i]])\n",
    "    csvfile.close()"
   ]
  },
  {
   "cell_type": "markdown",
   "metadata": {},
   "source": [
    "# Problem 1.4"
   ]
  },
  {
   "cell_type": "code",
   "execution_count": 147,
   "metadata": {
    "collapsed": false
   },
   "outputs": [],
   "source": [
    "X = np.array([[0, 3, 1], [1, 3, 1], [0, 1, 1], [1, 1, 1]]).reshape(4, 3)\n",
    "y = np.array([1, 1, 0, 0])\n",
    "w = np.array([-2, 1, 0]).reshape(3, 1)\n",
    "lam = 0.07"
   ]
  },
  {
   "cell_type": "code",
   "execution_count": 148,
   "metadata": {
    "collapsed": false
   },
   "outputs": [],
   "source": []
  },
  {
   "cell_type": "code",
   "execution_count": 149,
   "metadata": {
    "collapsed": false
   },
   "outputs": [],
   "source": [
    "def computeGradient(lam, w, X, y, s):\n",
    "    return 2 * lam * w - X.T.dot((vec(y)-vec(s)))"
   ]
  },
  {
   "cell_type": "code",
   "execution_count": 150,
   "metadata": {
    "collapsed": true
   },
   "outputs": [],
   "source": [
    "def computeHessian(lam, w, X, y, s):\n",
    "    probVect = sp.special.expit(X.dot(w))\n",
    "    D = np.diag(arr(probVect))\n",
    "    return 2*lam*np.identity(3) - X.T.dot(D).dot(X)"
   ]
  },
  {
   "cell_type": "markdown",
   "metadata": {},
   "source": [
    "# (a)"
   ]
  },
  {
   "cell_type": "code",
   "execution_count": 151,
   "metadata": {
    "collapsed": false
   },
   "outputs": [
    {
     "name": "stdout",
     "output_type": "stream",
     "text": [
      "The value of s before any iterations: \n",
      "[[ 0.95257413]\n",
      " [ 0.73105858]\n",
      " [ 0.73105858]\n",
      " [ 0.26894142]]\n"
     ]
    }
   ],
   "source": [
    "s = sp.special.expit(X.dot(w))\n",
    "print(\"The value of s before any iterations: \\n\" + str(s))"
   ]
  },
  {
   "cell_type": "markdown",
   "metadata": {},
   "source": [
    "# (b)"
   ]
  },
  {
   "cell_type": "code",
   "execution_count": 152,
   "metadata": {
    "collapsed": false
   },
   "outputs": [
    {
     "name": "stdout",
     "output_type": "stream",
     "text": [
      "The value of w after 1 iteration: \n",
      "[[-3.02666766]\n",
      " [ 0.16601721]\n",
      " [ 2.65629753]]\n"
     ]
    }
   ],
   "source": [
    "gradient = computeGradient(lam, w, X, y, s)\n",
    "hessian = computeHessian(lam, w, X, y, s)\n",
    "w = w - np.linalg.inv(hessian).dot(gradient)\n",
    "print(\"The value of w after 1 iteration: \")\n",
    "print(w)"
   ]
  },
  {
   "cell_type": "markdown",
   "metadata": {},
   "source": [
    "# (c)"
   ]
  },
  {
   "cell_type": "code",
   "execution_count": 153,
   "metadata": {
    "collapsed": false
   },
   "outputs": [
    {
     "name": "stdout",
     "output_type": "stream",
     "text": [
      "The value of s after 1 iteration: \n",
      "[[ 0.95907975]\n",
      " [ 0.53187708]\n",
      " [ 0.94386983]\n",
      " [ 0.44908882]]\n"
     ]
    }
   ],
   "source": [
    "s = sp.special.expit(X.dot(w))\n",
    "print(\"The value of s after 1 iteration: \\n\" + str(s))"
   ]
  },
  {
   "cell_type": "markdown",
   "metadata": {},
   "source": [
    "# (d)"
   ]
  },
  {
   "cell_type": "code",
   "execution_count": 154,
   "metadata": {
    "collapsed": false
   },
   "outputs": [
    {
     "name": "stdout",
     "output_type": "stream",
     "text": [
      "The value of w after 2 iterations: \n",
      "[[-4.99069235]\n",
      " [-1.19352621]\n",
      " [ 6.72248976]]\n"
     ]
    }
   ],
   "source": [
    "gradient = computeGradient(lam, w, X, y, s)\n",
    "hessian = computeHessian(lam, w, X, y, s)\n",
    "w = w - np.linalg.inv(hessian).dot(gradient)\n",
    "print(\"The value of w after 2 iterations: \")\n",
    "print(w)"
   ]
  },
  {
   "cell_type": "markdown",
   "metadata": {},
   "source": [
    "\n",
    "# Problem 4"
   ]
  },
  {
   "cell_type": "code",
   "execution_count": 17,
   "metadata": {
    "collapsed": true
   },
   "outputs": [],
   "source": [
    "data = sp.io.loadmat('data.mat')"
   ]
  },
  {
   "cell_type": "code",
   "execution_count": 61,
   "metadata": {
    "collapsed": false
   },
   "outputs": [
    {
     "name": "stdout",
     "output_type": "stream",
     "text": [
      "\n"
     ]
    }
   ],
   "source": [
    "testSet = data['X_test']\n",
    "trainX = data['X']\n",
    "trainY = data['y']\n",
    "\n",
    "testSet = sklearn.preprocessing.normalize(testSet.astype(float))\n",
    "trainX = sklearn.preprocessing.normalize(trainX.astype(float))\n",
    "\n",
    "combined = np.hstack([trainX, trainY])\n",
    "np.random.shuffle(combined)\n",
    "trainX = combined[:, :-1]\n",
    "trainY = combined[:, -1]\n",
    "trainX = np.hstack([trainX, np.array([1] * 6000).reshape(6000,1)])\n",
    "trainX, validX, trainY, validY = train_test_split(trainX, trainY, test_size=.1, random_state=42)\n",
    "print(\"\")\n"
   ]
  },
  {
   "cell_type": "markdown",
   "metadata": {},
   "source": [
    "# 4.1 Batch Gradient Descent"
   ]
  },
  {
   "cell_type": "code",
   "execution_count": 62,
   "metadata": {
    "collapsed": true
   },
   "outputs": [],
   "source": [
    "alpha = .001\n",
    "regConst = .007\n",
    "numIterations = 100000"
   ]
  },
  {
   "cell_type": "code",
   "execution_count": 63,
   "metadata": {
    "collapsed": false
   },
   "outputs": [],
   "source": [
    "wBatch, costsBatch = computeBatchGradientDescent(trainX, trainY, alpha, regConst, numIterations)"
   ]
  },
  {
   "cell_type": "code",
   "execution_count": 64,
   "metadata": {
    "collapsed": false,
    "scrolled": false
   },
   "outputs": [
    {
     "name": "stdout",
     "output_type": "stream",
     "text": [
      "Accuracy is 94.3333333333%\n",
      "[ 1.  0.  0.  0.  0.  0.  1.  0.  1.  0.  0.  0.  0.  1.  0.  1.  0.  0.\n",
      "  0.  0.]\n",
      "[1, 0, 0, 0, 0, 0, 1, 0, 1, 0, 0, 0, 0, 1, 0, 0, 0, 0, 0, 0]\n"
     ]
    }
   ],
   "source": [
    "predictionsBatch = classifyPoints(wBatch, validX)\n",
    "accuracyBatch = accuracy_score(validY, predictionsBatch)\n",
    "print('Accuracy is ' + str(accuracyBatch * 100) + '%')\n",
    "print(validY[:20])\n",
    "print(predictionsBatch[:20])"
   ]
  },
  {
   "cell_type": "code",
   "execution_count": 65,
   "metadata": {
    "collapsed": false
   },
   "outputs": [
    {
     "data": {
      "image/png": "[encoded data removed]",
      "text/plain": [
       "<matplotlib.figure.Figure at 0x109ac5a20>"
      ]
     },
     "metadata": {},
     "output_type": "display_data"
    },
    {
     "name": "stdout",
     "output_type": "stream",
     "text": [
      "0.943333333333\n"
     ]
    }
   ],
   "source": [
    "plotCostFN(costsBatch)\n",
    "print(accuracyBatch)"
   ]
  },
  {
   "cell_type": "code",
   "execution_count": 66,
   "metadata": {
    "collapsed": false
   },
   "outputs": [],
   "source": [
    "# print(costsBatch[0])\n",
    "# print(costsBatch[100])\n",
    "# print(costsBatch[1000])\n",
    "# print(costsBatch[10000-1])"
   ]
  },
  {
   "cell_type": "markdown",
   "metadata": {},
   "source": [
    "# 4.2 Stochastic Gradient Descent"
   ]
  },
  {
   "cell_type": "code",
   "execution_count": null,
   "metadata": {
    "collapsed": true
   },
   "outputs": [],
   "source": []
  },
  {
   "cell_type": "code",
   "execution_count": 67,
   "metadata": {
    "collapsed": false
   },
   "outputs": [],
   "source": [
    "alpha = .001\n",
    "regConst = .007\n",
    "numIterations = 100000\n"
   ]
  },
  {
   "cell_type": "code",
   "execution_count": 68,
   "metadata": {
    "collapsed": false
   },
   "outputs": [],
   "source": [
    "testSet = data['X_test']\n",
    "trainX = data['X']\n",
    "trainY = data['y']\n",
    "\n",
    "trainX = sklearn.preprocessing.normalize(trainX.astype(float))\n",
    "# testSet = sklearn.preprocessing.normalize(testSet.astype(float))\n",
    "\n",
    "combined = np.hstack([trainX, trainY])\n",
    "np.random.shuffle(combined)\n",
    "trainX = combined[:, :-1]\n",
    "trainY = combined[:, -1]\n",
    "trainX = np.hstack([trainX, np.array([1] * 6000).reshape(6000,1)])\n",
    "trainX, validX, trainY, validY = train_test_split(trainX, trainY, test_size=.1, random_state=42)\n"
   ]
  },
  {
   "cell_type": "code",
   "execution_count": 69,
   "metadata": {
    "collapsed": false
   },
   "outputs": [],
   "source": [
    "wSGD, costsSGD = computeStochGradientDescent(trainX, trainY, alpha, regConst, numIterations, False)"
   ]
  },
  {
   "cell_type": "code",
   "execution_count": 70,
   "metadata": {
    "collapsed": false
   },
   "outputs": [
    {
     "name": "stdout",
     "output_type": "stream",
     "text": [
      "Accuracy is 79.5%\n"
     ]
    }
   ],
   "source": [
    "predictionsSGD = classifyPoints(wSGD, validX)\n",
    "accuracySGD = accuracy_score(validY, predictionsSGD)\n",
    "print('Accuracy is ' + str(accuracySGD * 100) + '%')\n"
   ]
  },
  {
   "cell_type": "code",
   "execution_count": 71,
   "metadata": {
    "collapsed": false
   },
   "outputs": [
    {
     "data": {
      "image/png": "[encoded data removed]",
      "text/plain": [
       "<matplotlib.figure.Figure at 0x10b1e2438>"
      ]
     },
     "metadata": {},
     "output_type": "display_data"
    }
   ],
   "source": [
    "plotCostFN(costsSGD)"
   ]
  },
  {
   "cell_type": "markdown",
   "metadata": {},
   "source": [
    "# 4.3 SGD Decreasing Epsilon"
   ]
  },
  {
   "cell_type": "code",
   "execution_count": 72,
   "metadata": {
    "collapsed": false
   },
   "outputs": [
    {
     "name": "stdout",
     "output_type": "stream",
     "text": [
      "\n"
     ]
    }
   ],
   "source": [
    "testSet = data['X_test']\n",
    "trainX = data['X']\n",
    "trainY = data['y']\n",
    "\n",
    "sklearn.preprocessing.normalize(testSet.astype(float))\n",
    "sklearn.preprocessing.normalize(trainX.astype(float))\n",
    "\n",
    "combined = np.hstack([trainX, trainY])\n",
    "np.random.shuffle(combined)\n",
    "trainX = combined[:, :-1]\n",
    "trainY = combined[:, -1]\n",
    "trainX = np.hstack([trainX, np.array([1] * 6000).reshape(6000,1)])\n",
    "trainX, validX, trainY, validY = train_test_split(trainX, trainY, test_size=.1, random_state=42)\n",
    "print(\"\")"
   ]
  },
  {
   "cell_type": "code",
   "execution_count": 73,
   "metadata": {
    "collapsed": true
   },
   "outputs": [],
   "source": [
    "alpha = .001\n",
    "regConst = .007\n",
    "numIterations = 100000\n"
   ]
  },
  {
   "cell_type": "code",
   "execution_count": 74,
   "metadata": {
    "collapsed": false
   },
   "outputs": [],
   "source": [
    "wSGDDec, costsSGDDec = computeStochGradientDescent(trainX, trainY, alpha, regConst, numIterations, True)"
   ]
  },
  {
   "cell_type": "code",
   "execution_count": 75,
   "metadata": {
    "collapsed": false
   },
   "outputs": [
    {
     "name": "stdout",
     "output_type": "stream",
     "text": [
      "Accuracy is 91.6666666667%\n"
     ]
    }
   ],
   "source": [
    "predictionsSGDDec = classifyPoints(wSGDDec, validX)\n",
    "accuracySGDDec = accuracy_score(validY, predictionsSGDDec)\n",
    "\n",
    "print('Accuracy is ' + str(accuracySGDDec * 100) + '%')"
   ]
  },
  {
   "cell_type": "code",
   "execution_count": 76,
   "metadata": {
    "collapsed": false
   },
   "outputs": [
    {
     "data": {
      "image/png": "[encoded data removed]",
      "text/plain": [
       "<matplotlib.figure.Figure at 0x10b07bf60>"
      ]
     },
     "metadata": {},
     "output_type": "display_data"
    }
   ],
   "source": [
    "plotCostFN(costsSGDDec)"
   ]
  },
  {
   "cell_type": "markdown",
   "metadata": {},
   "source": [
    "# 4.4 Kaggle Submission"
   ]
  },
  {
   "cell_type": "code",
   "execution_count": 18,
   "metadata": {
    "collapsed": false
   },
   "outputs": [],
   "source": [
    "testSet = data['X_test']\n",
    "trainX = data['X']\n",
    "trainY = data['y']\n",
    "trainX = sklearn.preprocessing.normalize(trainX.astype(float))\n",
    "testSet = sklearn.preprocessing.normalize(testSet.astype(float))\n",
    "\n",
    "combined = np.hstack([trainX, trainY])\n",
    "np.random.shuffle(combined)\n",
    "trainX = combined[:, :-1]\n",
    "trainY = combined[:, -1]\n",
    "trainX = np.hstack([trainX, np.array([1] * trainX.shape[0]).reshape(trainX.shape[0],1)])\n",
    "testSet = np.hstack([testSet, np.array([1] * testSet.shape[0]).reshape(testSet.shape[0],1)])\n",
    "\n",
    "# trainX, validX, trainY, validY = train_test_split(trainX, trainY, test_size=.1, random_state=42)\n"
   ]
  },
  {
   "cell_type": "code",
   "execution_count": 19,
   "metadata": {
    "collapsed": true
   },
   "outputs": [],
   "source": [
    "alpha = .001\n",
    "regConst = .007\n",
    "numIterations = 100000\n"
   ]
  },
  {
   "cell_type": "code",
   "execution_count": 22,
   "metadata": {
    "collapsed": false
   },
   "outputs": [
    {
     "name": "stdout",
     "output_type": "stream",
     "text": [
      "[0, 1, 0, 1, 1, 1, 0, 0, 0, 0, 0, 0, 0, 0, 0, 0, 0, 0, 0, 0, 0, 0, 0, 1, 0, 1, 0, 1, 0, 0, 1, 0, 0, 0, 0, 1, 0, 0, 1, 0, 1, 0, 1, 0, 0, 0, 0, 0, 0, 1, 0, 1, 1, 0, 1, 0, 0, 1, 1, 0, 0, 1, 0, 1, 1, 1, 1, 0, 0, 0, 0, 0, 0, 1, 0, 0, 0, 0, 0, 0, 0, 0, 0, 1, 0, 0, 0, 0, 1, 0, 1, 1, 0, 0, 1, 0, 0, 0, 0, 0, 0, 0, 1, 0, 0, 0, 0, 0, 0, 0, 0, 0, 0, 1, 1, 0, 1, 0, 0, 0, 0, 1, 0, 0, 0, 0, 0, 1, 0, 1, 0, 0, 0, 0, 0, 1, 1, 0, 0, 0, 1, 0, 0, 0, 0, 0, 0, 0, 0, 0, 0, 1, 0, 0, 1, 0, 0, 0, 0, 0, 1, 0, 0, 0, 1, 0, 0, 0, 0, 1, 0, 0, 0, 0, 0, 1, 1, 0, 0, 1, 0, 0, 0, 1, 0, 0, 0, 0, 0, 0, 0, 0, 0, 1, 0, 0, 0, 0, 0, 1, 1, 0, 0, 0, 0, 0, 0, 0, 0, 0, 0, 0, 0, 0, 0, 1, 0, 1, 0, 1, 0, 1, 1, 1, 1, 0, 0, 1, 1, 0, 0, 0, 0, 0, 0, 1, 0, 1, 1, 0, 0, 0, 0, 0, 1, 1, 0, 1, 0, 1, 0, 1, 0, 0, 0, 0, 0, 1, 0, 0, 1, 0, 0, 0, 0, 0, 0, 0, 0, 0, 0, 0, 0, 1, 0, 0, 0, 0, 0, 0, 0, 1, 0, 0, 0, 0, 0, 0, 1, 0, 0, 0, 0, 0, 0, 0, 1, 0, 0, 0, 0, 0, 0, 0, 1, 0, 1, 1, 0, 1, 1, 0, 0, 1, 0, 1, 1, 1, 0, 0, 0, 0, 0, 0, 0, 0, 0, 0, 0, 0, 0, 1, 1, 0, 0, 0, 0, 0, 0, 1, 0, 0, 0, 0, 0, 0, 0, 1, 0, 0, 0, 0, 1, 0, 1, 0, 0, 0, 0, 0, 0, 0, 0, 0, 0, 1, 0, 0, 0, 1, 0, 0, 0, 1, 0, 0, 1, 0, 0, 0, 0, 0, 0, 0, 0, 1, 0, 0, 0, 0, 0, 0, 0, 1, 1, 1, 0, 1, 0, 0, 0, 0, 1, 1, 0, 0, 0, 0, 0, 0, 0, 0, 0, 0, 0, 0, 1, 0, 0, 0, 0, 1, 0, 0, 0, 0, 0, 0, 0, 0, 0, 0, 0, 0, 0, 0, 1, 0, 0, 0, 1, 0, 0, 1, 1, 0, 0, 0, 1, 0, 1, 0, 0, 0, 1, 0, 1, 0, 0, 1, 0, 1, 0, 0, 0, 0, 0, 0, 0, 0, 0, 0, 1, 0, 1, 0, 0, 0, 1, 0, 1, 0, 0, 0, 1, 0, 0, 0, 0, 0, 0, 0, 1, 0, 0, 0, 0]\n"
     ]
    }
   ],
   "source": [
    "wKaggle, costsKaggle = computeBatchGradientDescent(trainX, trainY, alpha, regConst, numIterations)\n",
    "\n",
    "predictionsKaggle = classifyPoints(wKaggle, testSet)\n",
    "\n",
    "generateCsv(predictionsKaggle, 'saturday')"
   ]
  },
  {
   "cell_type": "markdown",
   "metadata": {
    "collapsed": false
   },
   "source": [
    "# Kaggle Display Name: maiarose\n"
   ]
  },
  {
   "cell_type": "markdown",
   "metadata": {
    "collapsed": true
   },
   "source": [
    "# Kaggle Score: 0.93952"
   ]
  },
  {
   "cell_type": "markdown",
   "metadata": {
    "collapsed": false
   },
   "source": [
    "# Process for Choosing Parameters"
   ]
  },
  {
   "cell_type": "markdown",
   "metadata": {
    "collapsed": true
   },
   "source": [
    "My process for choosing the regularization parameter lambda and the learning rate for gradient descent was trial and error. I initially chose high lambda (=10) and very low learning rate (0.0001). I tested different combinations of lambda ranging from 0.000001 to 25 and learning rate ranging from 0.0000001 to 0.3 and settled on lambda = 0.007, learning rate = 0.001 since they gave me the highest validation accuracy."
   ]
  },
  {
   "cell_type": "markdown",
   "metadata": {
    "collapsed": false
   },
   "source": [
    "#     Problem 5: Real World Spam Classification"
   ]
  },
  {
   "cell_type": "markdown",
   "metadata": {
    "collapsed": true
   },
   "source": [
    "To get a better intuition for the problem, let's suppose the feature space was in $R^2$ so that we can visualize a 2-D graph of the data. The number of spam messages peaks a few minutes before and after midnight, so we can imagine that a graph plotting time on the x-axis (from 12AM to 11:59PM) and number of spam messages on the y-axis would look something like a very flat 'bowl': the middle region (around 12:05 AM to 11:55 PM) would be nearly flat, while there would be spikes at the edges (around 12AM-12:05 and 11:55-11:59). The edges would be classified as \"spam\" while the center would be classifed as \"ham,\" meaning that a linear decision boundary is not complex enough to classify the points correctly. We would need a quadratic classifier to make a more accurate decision boundary. There are two things Daniel could do: \n",
    "1. He could add n polynomial features to his sample points (and n components to his weigth vector) which would create a 'parabolic lifting' of the linear feature space, so that his decision boundary would be polynomial. 2. He could \n",
    "2. If Daniel doesn't want to change his features, he could 'squash' the 24-hour period from 12AM to 11:59 PM on the x-axis to a 12-hour period by using the axis |t-12| (this is the absolute value, not the norm). Now the axis goes from 0 to 11. The spam data points will be concentrated near 0, while everything else will be ham. Thus he can use a linear SVM to classify the points."
   ]
  },
  {
   "cell_type": "code",
   "execution_count": null,
   "metadata": {
    "collapsed": true
   },
   "outputs": [],
   "source": []
  }
 ],
 "metadata": {
  "anaconda-cloud": {},
  "kernelspec": {
   "display_name": "Python [189hw]",
   "language": "python",
   "name": "Python [189hw]"
  },
  "language_info": {
   "codemirror_mode": {
    "name": "ipython",
    "version": 3
   },
   "file_extension": ".py",
   "mimetype": "text/x-python",
   "name": "python",
   "nbconvert_exporter": "python",
   "pygments_lexer": "ipython3",
   "version": "3.5.2"
  }
 },
 "nbformat": 4,
 "nbformat_minor": 0
}
