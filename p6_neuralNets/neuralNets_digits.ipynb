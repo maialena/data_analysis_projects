{
 "cells": [
  {
   "cell_type": "markdown",
   "metadata": {},
   "source": [
    "# HW6 Neural Nets"
   ]
  },
  {
   "cell_type": "markdown",
   "metadata": {},
   "source": [
    "By Maia Rosengarten <br/>\n",
    "SID: 23572580 <br/>\n",
    "April 14, 2017"
   ]
  },
  {
   "cell_type": "code",
   "execution_count": 329,
   "metadata": {
    "collapsed": true
   },
   "outputs": [],
   "source": [
    "import matplotlib\n",
    "import numpy as np\n",
    "from numpy import linalg as LA\n",
    "import matplotlib.cm as cm\n",
    "import matplotlib.mlab as mlab\n",
    "import matplotlib.pyplot as plt\n",
    "import math\n",
    "import scipy as sp\n",
    "from scipy import io\n",
    "from scipy.stats import logistic as sig\n",
    "import pandas as pd\n",
    "\n",
    "np.set_printoptions(threshold=np.nan)\n",
    "\n",
    "import sklearn\n",
    "from sklearn.preprocessing import normalize\n",
    "import csv\n",
    "from sklearn.model_selection import train_test_split\n",
    "from sklearn.metrics import accuracy_score\n",
    "from sklearn.utils import shuffle as shuffle\n",
    "from sklearn.utils import resample as resample\n",
    "from sklearn.preprocessing import StandardScaler\n",
    "%matplotlib inline"
   ]
  },
  {
   "cell_type": "markdown",
   "metadata": {},
   "source": [
    "# NP FNS"
   ]
  },
  {
   "cell_type": "code",
   "execution_count": 330,
   "metadata": {
    "collapsed": true
   },
   "outputs": [],
   "source": [
    "def vec(arr): # d b 1 --> (d, 1)\n",
    "    return arr.reshape((arr.shape[0], 1))"
   ]
  },
  {
   "cell_type": "code",
   "execution_count": 331,
   "metadata": {
    "collapsed": true
   },
   "outputs": [],
   "source": [
    "def arr(vec): # 1 by d --> (d, )\n",
    "    return vec.flatten()"
   ]
  },
  {
   "cell_type": "markdown",
   "metadata": {},
   "source": [
    "# UTIL FNS"
   ]
  },
  {
   "cell_type": "code",
   "execution_count": 332,
   "metadata": {
    "collapsed": true
   },
   "outputs": [],
   "source": [
    "def plotAccuracies(accuracies, depths):\n",
    "    '''\n",
    "        Plots accuracies as a function od depth\n",
    "        Args:\n",
    "            costs (ndarray) - lst of costs per iteration of gradient descent\n",
    "    '''\n",
    "   \n",
    "    plt.plot(depths, accuracies)\n",
    "    plt.title(\"Prediction Evaluation Decision Tree On Census Data\")\n",
    "    plt.xlabel('max_depth')\n",
    "    plt.ylabel('accuracy')\n",
    "    plt.show()"
   ]
  },
  {
   "cell_type": "code",
   "execution_count": 333,
   "metadata": {
    "collapsed": true
   },
   "outputs": [],
   "source": [
    "def plotCosts(costs, iterations):\n",
    "    '''\n",
    "        Plots accuracies as a function od depth\n",
    "        Args:\n",
    "            costs (ndarray) - lst of costs per iteration of gradient descent\n",
    "    '''\n",
    "   \n",
    "    plt.plot(iterations, costs)\n",
    "    plt.title(\"Costs\")\n",
    "    plt.xlabel('costs')\n",
    "    plt.ylabel('numIter')\n",
    "    plt.show()"
   ]
  },
  {
   "cell_type": "code",
   "execution_count": 350,
   "metadata": {
    "collapsed": true
   },
   "outputs": [],
   "source": [
    "def generateCsv(aryPredictions, strCsvName):\n",
    "    '''\n",
    "    Writes predictions of testSet to csv file\n",
    "    Args:\n",
    "        aryPredictions (ndarray) - (nx1)-array of predictions given size n test (or valid) set\n",
    "        strCsvName (str) - name of csv file to write to\n",
    "    '''\n",
    "    with open(strCsvName + '.csv', 'w') as csvfile:\n",
    "        writer = csv.writer(csvfile)\n",
    "        for i in range(len(aryPredictions)):\n",
    "            writer.writerow([i, aryPredictions[i]])\n",
    "    csvfile.close()"
   ]
  },
  {
   "cell_type": "markdown",
   "metadata": {},
   "source": [
    "# Training"
   ]
  },
  {
   "cell_type": "code",
   "execution_count": 335,
   "metadata": {
    "collapsed": false
   },
   "outputs": [],
   "source": [
    "class NeuralNet:\n",
    "    def __init__(self, trainX, trainY, V=None, W=None, l2=None, numHiddenLayers=800, learnRateW=0.01, learnRateV=0.01, hasDecay=True, hasDropOut=False, momentum=None, batchSize=None, numIterations=10000):\n",
    "        self.X = trainX\n",
    "        self.Y = trainY\n",
    "        self.sizeH = numHiddenLayers\n",
    "        self.learnRateW = learnRateW\n",
    "        self.learnRateV = learnRateV\n",
    "        self.hasDecay = hasDecay\n",
    "        self.hasDropOut = hasDropOut\n",
    "        self.momentum = momentum\n",
    "        self.batchSize = batchSize\n",
    "        self.numIter = numIterations\n",
    "        self.V = V \n",
    "        self.W = W\n",
    "        self.predictions = []\n",
    "        self.l2 = l2\n",
    "        self.costs = []\n",
    "        if V==None and W==None:\n",
    "            self.initWeights()\n",
    "    \n",
    "    def setLearningRates(self, learnRateW, learnRateV):\n",
    "        self.learnRateW = learnRateW\n",
    "        self.learnRateV = learnRateV\n",
    "    \n",
    "    def setWeights(self, W, V):\n",
    "        self.V = V\n",
    "        self.W = W\n",
    "    \n",
    "    def setHasDecay(self, hasDecay):\n",
    "        self.hasDecay = hasDecay\n",
    "    \n",
    "    def setMomentum(self, momentum):\n",
    "        self.momentum = momentum\n",
    "    \n",
    "    def initWeights(self):\n",
    "        numFeatures = self.X.shape[1]\n",
    "        self.V = np.random.normal(loc=0.0, scale=1/np.sqrt(numFeatures), size=(self.sizeH, numFeatures))\n",
    "        self.W = np.random.normal(loc=0.0, scale=1/np.sqrt(self.sizeH + 1), size=(26, self.sizeH + 1))\n",
    "#         self.V = np.random.normal(loc=0.0, scale=0.01, size=(self.sizeH, numFeatures))\n",
    "#         self.W = np.random.normal(loc=0.0, scale=0.01, size=(26, self.sizeH + 1))\n",
    "    \n",
    "    def trainSGD(self):\n",
    "        epoch = self.X.shape[0]\n",
    "        numFeatures = self.X.shape[1]\n",
    "        for i in range(self.numIter):   \n",
    "            index = i%epoch\n",
    "            if (index==0 and i!=0):\n",
    "                self.X, self.Y = shuffle(self.X, self.Y, random_state=42)\n",
    "            \n",
    "            sample = vec(self.X[index])\n",
    "            y = vec(self.Y[index])\n",
    "            \n",
    "            if self.hasDropOut and i%10000==0:\n",
    "                inputDropOutIndices = np.random.choice(range(0, numFeatures), size=math.ceil(0.10*numFeatures), replace=False)\n",
    "                hiddenDropOutIndices = np.random.choice(range(0, self.sizeH), size=math.ceil(0.5*self.sizeH), replace=False)\n",
    "                sample[inputDropOutIndices]=0 \n",
    "                h = np.tanh(np.dot(self.V.T, sample)) \n",
    "                h[hiddenDropOutIndices]=0\n",
    "            else:\n",
    "                h = np.tanh(np.dot(self.V, sample)) \n",
    "            h = np.vstack((h, np.array(1)))\n",
    "            z = sp.special.expit(np.dot(self.W, vec(h)))\n",
    "            grad_w = grad = np.dot(z-y, h.T)           \n",
    "            diag = np.diag(arr(np.dot((z-y).T, W)))\n",
    "            dLdH = 1-np.square(arr(h))\n",
    "            grad_v = np.dot(np.dot(diag.T, vec(dLdH)), sample.T)[:-1]\n",
    "            \n",
    "            if self.hasDecay and i%50000==0:\n",
    "                self.learnRateW = 0.001\n",
    "                self.learnRateV = 0.001\n",
    "            \n",
    "            self.W = self.W - self.learnRateW * grad_w\n",
    "            self.V = self.V - self.learnRateV * grad_v\n",
    "            self.costs.append(computeCrossEntropyLoss(z, y))\n",
    "        return self.V, self.W\n",
    "\n",
    "    def trainMiniBatch(self):\n",
    "        epoch = self.X.shape[0]\n",
    "        t = 0\n",
    "        \n",
    "        while t < self.numIter:\n",
    "            if (t%20000==0):\n",
    "                print('iter ' + str(t))        \n",
    "            i = t % epoch\n",
    "            j = (t + self.batchSize) % epoch\n",
    "\n",
    "            if (t==epoch):\n",
    "                self.X, self.Y = shuffle(self.X, self.Y, random_state=42)\n",
    "                i = 0\n",
    "                j = self.batchSize\n",
    "            else:\n",
    "                i = t % epoch\n",
    "                j = (t + self.batchSize) % epoch \n",
    "            \n",
    "            samples = self.X[i:j]\n",
    "            y = self.Y[i:j]\n",
    "  \n",
    "            if self.hasDropOut:\n",
    "                numFeatures = self.X.shape[1]\n",
    "                inputDropOutIndices = np.random.choice(range(numFeatures), size=math.ceil(0.10*numFeatures), replace=False)\n",
    "                hiddenDropOutIndices = np.random.choice(range(self.sizeH), size=math.ceil(0.5*self.sizeH), replace=False) \n",
    "                samples.T[inputDropOutIndices]=0\n",
    "                h = np.tanh(np.dot(self.V, samples.T)) \n",
    "                h[hiddenDropOutIndices]=0\n",
    "            else:\n",
    "                h = np.tanh(np.dot(self.V, samples.T)) \n",
    "            \n",
    "            h = np.vstack((h, np.array([1]*h.shape[1])))\n",
    "            z = sp.special.expit(self.W.dot(h)) \n",
    "            zMinusY = (z-y.T)   \n",
    "            if (self.l2):\n",
    "                reg = 2*self.l2\n",
    "                grad_w = np.dot(zMinusY, h.T) + reg*self.W\n",
    "                grad_v = np.multiply(((zMinusY.T).dot(self.W)).T, 1-h**2).dot(samples)[:-1] + reg*self.V\n",
    "            else:\n",
    "                grad_w = zMinusY.dot(h.T)\n",
    "                grad_v = np.multiply(((zMinusY.T).dot(self.W)).T, 1-h**2).dot(samples)[:-1]\n",
    "                \n",
    "            if self.hasDecay and t%50000==0 and t!=0:\n",
    "                self.learnRateW = 0.001\n",
    "                self.learnRateV = 0.001\n",
    "                \n",
    "            self.W = self.W - (self.learnRateW * grad_w)\n",
    "            self.V = self.V - (self.learnRateV * grad_v)\n",
    "            self.costs.append(self.computeCrossEntropyLossBatch(z, y))\n",
    "            \n",
    "            t+=self.batchSize\n",
    "            \n",
    "        return self.V, self.W\n",
    "\n",
    "    \n",
    "    def plotCosts(self, costs, iterations, strTypeGradDescent=\"MiniBatch\"):\n",
    "        '''\n",
    "            Plots accuracies as a function od depth\n",
    "            Args:\n",
    "                costs (ndarray) - lst of costs per iteration of gradient descent\n",
    "        '''\n",
    "\n",
    "        plt.plot(iterations, costs)\n",
    "        plt.title(\"Costs \" + strTypeGradDescent)\n",
    "        plt.xlabel('iterations')\n",
    "        plt.ylabel('costs')\n",
    "        plt.show()\n",
    "    \n",
    "    def computeCrossEntropyLossBatch(self, z, y):\n",
    "        '''\n",
    "            y: (50x26)\n",
    "            z: (26x50)\n",
    "            ret: (1x1)\n",
    "        \n",
    "        '''\n",
    "        cost = np.multiply(y, np.log(z.T + 0.001))\n",
    "        return np.sum(-cost) * 1/self.batchSize\n",
    "    \n",
    "    def predict(self, testX):\n",
    "        sizeData = testX.shape[0]\n",
    "        self.predictions = []\n",
    "        for i in range(sizeData):\n",
    "            if (i%(sizeData/2)==0 and i!=0):\n",
    "                print('halfway point')     \n",
    "            h = np.tanh(np.dot(self.V, vec(testX[i])))\n",
    "            h = np.vstack((h, np.array(1)))\n",
    "            z = sp.special.expit(self.W.dot(h))\n",
    "            prediction = np.argmax(z)\n",
    "            self.predictions.append(prediction+1)\n",
    "        return self.predictions\n"
   ]
  },
  {
   "cell_type": "markdown",
   "metadata": {},
   "source": []
  },
  {
   "cell_type": "markdown",
   "metadata": {},
   "source": [
    "a) We need to solve for two gradients, one in the update equation for W: <br/>\n",
    "\n",
    "$\\begin{equation}\n",
    "W_{t} = W_{t-1} - \\epsilon(\\nabla_{W}L) \\\\\n",
    "\\end{equation}$\n",
    "\n",
    "and the other in the update equation for V:\n",
    "\n",
    "$\\begin{equation}\n",
    "V_{t} = V_{t-1} - \\epsilon(\\nabla_{V}L) \\\\\n",
    "\\end{equation}$\n",
    "\n",
    "where $\\epsilon$ is the step size and L is the cross entropy loss function.</br><br/>\n",
    "\n",
    "Let's solve for the first gradient. We'll do so in terms of $W_j$, the (1x201) rows in matrix W before writing the expression in terms of W, a (26x201) matrix. Let $z_j$ be the $j^{th}$ component of the output layer (where z is the (26x1) sigmoid vector-function applied to Wh. Let $h_j$ be the $j^{th}$ component of the hidden layer, where h is the tanh activation function applied to $Vx$. V is a (200x785) matrix and x is (785x1) vector, making h a (201 x 1)-vector, including the bias term. <br/> <br/>\n",
    "\\begin{align}\n",
    "\\frac{\\partial L}{\\partial W_j} &= \\frac{\\partial L}{\\partial z_j} \\frac{\\partial z_j}{\\partial W_j} \\\\\n",
    "\\frac{\\partial z_j}{\\partial W_j} &= z_j(1-z_j)h \\\\\n",
    "\\frac{\\partial L}{\\partial z_j} &= \\frac{1-y_j}{1-z_j} - \\frac{y_j}{z_j}\\\\\n",
    "\\frac{\\partial L}{\\partial z_j} \\frac{\\partial z_j}{\\partial W_j} &= (\\frac{1-y_j}{1-z_j} - \\frac{y_j}{z_j})(z_j(1-z_j)h)\\\\\n",
    "&= ((1-y_j)z_j - y_j(1-z_j))h^T \\\\\n",
    "&= (z_j - y_jz_j - y_j +y_jz_j)h^T\\\\\n",
    "&= (z_j - y_j)h^T\\\\\n",
    "\\text{Therefore in terms of W}:\\\\\n",
    "\\frac{\\partial L}{\\partial W} &= (z-y)h^T\n",
    "\\end{align}\n",
    "\n",
    "<br/>\n",
    "Now we can solve for the second gradient, first in terms of $V_j$, the $j^{th}$ row of the matrix V before writing the expression in terms of V, a (200x785) matrix:<br/>\n",
    "\\begin{align}\n",
    "\\frac{\\partial L}{\\partial V_j} &= \\frac{\\partial L}{\\partial h_j}\\frac{\\partial h_j}{\\partial V_j}\\\\\n",
    "\\frac{\\partial L}{\\partial h_j} &= \\sum_{i=1}^{26}{\\frac{\\partial L}{\\partial z_i}\\frac{\\partial z_i}{\\partial h_j}}\\\\\n",
    " &= \\sum_{i=1}^{26}{\\frac{\\partial L}{\\partial z_i}z_i(1-z_i)W_{ij}}\\\\\n",
    "&= \\sum_{i=1}^{26}{(\\frac{1-y_i}{1-z_i} - \\frac{y_i}{z_i})z_i(1-z_i)W_{ij}}\\\\\n",
    "&= \\sum_{i=1}^{26}{(z_i - y_i)W_{ij}}\\\\\n",
    "\\text{In terms of the vector h, }\\\\\n",
    "\\frac{\\partial L}{\\partial h} &= \\sum_{i=1}^{26}{(z_i - y_i)W_{i}^T}\\\\\n",
    "\\text{We can solve for the next term similarly,}\\\\\n",
    "\\frac{\\partial h_j}{\\partial V_j} &= 1-tanh^2(V_jx)x^T\\\\ \n",
    "\\text{And in terms of the matrix V, }\\\\\n",
    "\\frac{\\partial h}{\\partial V} &= (1-tanh^2(Vx))x^T\\\\ \n",
    "\\text{Therefore,}\\\\\n",
    "\\frac{\\partial L}{\\partial V} &= \\frac{\\partial L}{\\partial h}\\frac{\\partial h}{\\partial V} \\\\\n",
    "&=(\\sum_{i=1}^{26}{(z_i - y_i)W_{i}^T})*(1-tanh^2(Vx))(x^T)\\\\ \n",
    "\\end{align}\n",
    "<br/>\n",
    "In the last step we perform an element-wise multiplication between the first and second terms $(\\sum_{i=1}^{26}{(z_i - y_i)W_{i}^T})*(1-tanh^2(Vx))$ so that we get a (201x1) vector. We can then take the dot product with $x^T$ to get a (201x785) matrix. Because we would like $\\frac{\\partial L}{\\partial V}$ to be a (200x785) matrix we can remove the last column by returning $\\frac{\\partial L}{\\partial V}[:-1]$ as our gradient.\n"
   ]
  },
  {
   "cell_type": "code",
   "execution_count": 328,
   "metadata": {
    "collapsed": false
   },
   "outputs": [],
   "source": [
    "dictLetters = sp.io.loadmat(\"hw6_data_dist/letters_data.mat\")"
   ]
  },
  {
   "cell_type": "code",
   "execution_count": 344,
   "metadata": {
    "collapsed": false
   },
   "outputs": [
    {
     "name": "stderr",
     "output_type": "stream",
     "text": [
      "/Users/maialena/anaconda/envs/189hw/lib/python3.5/site-packages/sklearn/utils/validation.py:429: DataConversionWarning: Data with input dtype uint8 was converted to float64 by StandardScaler.\n",
      "  warnings.warn(msg, _DataConversionWarning)\n"
     ]
    }
   ],
   "source": [
    "train_x = dictLetters['train_x']\n",
    "train_y = dictLetters['train_y']\n",
    "test_x = dictLetters['test_x']\n",
    "scaler = StandardScaler()\n",
    "normalizer = scaler.fit(train_x)\n",
    "train_x = normalizer.transform(train_x)\n",
    "test_x = normalizer.transform(test_x)\n",
    "\n",
    "train_x, train_y = shuffle(train_x, train_y, random_state=42)\n",
    "\n",
    "train_x, valid_x, train_y, valid_y = train_test_split(train_x, train_y, test_size=.2, random_state=42)\n",
    "\n",
    "train_x = np.hstack((train_x, np.ones(shape=(train_x.shape[0], 1))))\n",
    "valid_x = np.hstack((valid_x, np.ones(shape=(valid_x.shape[0], 1))))\n",
    "test_x = np.hstack((test_x, np.ones(shape=(test_x.shape[0], 1))))\n",
    "\n",
    "one_hot_train_y = pd.get_dummies(arr(train_y)).as_matrix()"
   ]
  },
  {
   "cell_type": "code",
   "execution_count": 336,
   "metadata": {
    "collapsed": false
   },
   "outputs": [],
   "source": [
    "net = NeuralNet(train_x, one_hot_train_y, l2=0.04, hasDecay=True, numHiddenLayers=800, batchSize=40, numIterations=1000000)"
   ]
  },
  {
   "cell_type": "code",
   "execution_count": 337,
   "metadata": {
    "collapsed": false
   },
   "outputs": [
    {
     "name": "stdout",
     "output_type": "stream",
     "text": [
      "iter 0\n",
      "iter 20000\n",
      "iter 40000\n",
      "iter 60000\n",
      "iter 80000\n",
      "iter 100000\n",
      "iter 120000\n",
      "iter 140000\n",
      "iter 160000\n",
      "iter 180000\n",
      "iter 200000\n",
      "iter 220000\n",
      "iter 240000\n",
      "iter 260000\n",
      "iter 280000\n",
      "iter 300000\n",
      "iter 320000\n",
      "iter 340000\n",
      "iter 360000\n",
      "iter 380000\n",
      "iter 400000\n",
      "iter 420000\n",
      "iter 440000\n",
      "iter 460000\n",
      "iter 480000\n",
      "iter 500000\n",
      "iter 520000\n",
      "iter 540000\n",
      "iter 560000\n",
      "iter 580000\n",
      "iter 600000\n",
      "iter 620000\n",
      "iter 640000\n",
      "iter 660000\n",
      "iter 680000\n",
      "iter 700000\n",
      "iter 720000\n",
      "iter 740000\n",
      "iter 760000\n",
      "iter 780000\n",
      "iter 800000\n",
      "iter 820000\n",
      "iter 840000\n",
      "iter 860000\n",
      "iter 880000\n",
      "iter 900000\n",
      "iter 920000\n",
      "iter 940000\n",
      "iter 960000\n",
      "iter 980000\n"
     ]
    }
   ],
   "source": [
    "V, W = net.trainMiniBatch()"
   ]
  },
  {
   "cell_type": "markdown",
   "metadata": {},
   "source": [
    "# Validation Accuracy"
   ]
  },
  {
   "cell_type": "code",
   "execution_count": 338,
   "metadata": {
    "collapsed": false,
    "scrolled": true
   },
   "outputs": [
    {
     "name": "stdout",
     "output_type": "stream",
     "text": [
      "halfway point\n"
     ]
    }
   ],
   "source": [
    "predictions = net.predict(valid_x)"
   ]
  },
  {
   "cell_type": "code",
   "execution_count": 339,
   "metadata": {
    "collapsed": false
   },
   "outputs": [
    {
     "data": {
      "text/plain": [
       "0.89619391025641026"
      ]
     },
     "execution_count": 339,
     "metadata": {},
     "output_type": "execute_result"
    }
   ],
   "source": [
    "accuracy = accuracy_score(predictions, valid_y)\n",
    "accuracy"
   ]
  },
  {
   "cell_type": "markdown",
   "metadata": {},
   "source": []
  },
  {
   "cell_type": "markdown",
   "metadata": {},
   "source": [
    "# Training Accuracy"
   ]
  },
  {
   "cell_type": "code",
   "execution_count": 340,
   "metadata": {
    "collapsed": false
   },
   "outputs": [
    {
     "name": "stdout",
     "output_type": "stream",
     "text": [
      "halfway point\n"
     ]
    }
   ],
   "source": [
    "predictionsTrain = net.predict(train_x)"
   ]
  },
  {
   "cell_type": "code",
   "execution_count": 341,
   "metadata": {
    "collapsed": false
   },
   "outputs": [
    {
     "data": {
      "text/plain": [
       "0.92585136217948716"
      ]
     },
     "execution_count": 341,
     "metadata": {},
     "output_type": "execute_result"
    }
   ],
   "source": [
    "trainAccuracy = accuracy_score(predictionsTrain, train_y)\n",
    "trainAccuracy"
   ]
  },
  {
   "cell_type": "markdown",
   "metadata": {},
   "source": [
    "# 2) WRITEUP"
   ]
  },
  {
   "cell_type": "markdown",
   "metadata": {},
   "source": [
    "Gradient Descent Update Equation: MiniBatch <br/>\n",
    "1. HYPER-PARAMETRES TUNED: 100,000 iterations, l2 regularization (0.04), batchSize=40, learning rate = 0.01, after 50,000 iterations drop learning rate to 0.001 <br/>\n",
    "2. Validation Accuracy: 85.79% <br/>\n",
    "3. Training Accuracy: 92.85% <br/>\n",
    "4. Plot of loss function versus iterations (see below)\n",
    "5. Kaggle score: 89%\n",
    "6. Display name: maiarose"
   ]
  },
  {
   "cell_type": "code",
   "execution_count": 342,
   "metadata": {
    "collapsed": false
   },
   "outputs": [
    {
     "data": {
      "text/plain": [
       "[<matplotlib.lines.Line2D at 0x113193860>]"
      ]
     },
     "execution_count": 342,
     "metadata": {},
     "output_type": "execute_result"
    },
    {
     "data": {
      "image/png": "[encoded data removed]",
      "text/plain": [
       "<matplotlib.figure.Figure at 0x117bafc18>"
      ]
     },
     "metadata": {},
     "output_type": "display_data"
    }
   ],
   "source": [
    "plt.plot(net.costs)"
   ]
  },
  {
   "cell_type": "markdown",
   "metadata": {},
   "source": [
    "# Kaggle File Generation"
   ]
  },
  {
   "cell_type": "code",
   "execution_count": 346,
   "metadata": {
    "collapsed": false
   },
   "outputs": [
    {
     "name": "stdout",
     "output_type": "stream",
     "text": [
      "halfway point\n"
     ]
    }
   ],
   "source": [
    "predictionsTest = net.predict(test_x)"
   ]
  },
  {
   "cell_type": "code",
   "execution_count": 352,
   "metadata": {
    "collapsed": false
   },
   "outputs": [],
   "source": [
    "generateCsv(predictionsTest, \"FridayKaggle\")"
   ]
  },
  {
   "cell_type": "markdown",
   "metadata": {},
   "source": [
    "# 3) Visualization"
   ]
  },
  {
   "cell_type": "code",
   "execution_count": 228,
   "metadata": {
    "collapsed": false
   },
   "outputs": [],
   "source": [
    "correctIndices = []\n",
    "incorrectIndices = []\n",
    "for i in range(len(predictions)):\n",
    "    if len(correctIndices)==5 and len(incorrectIndices)==5:\n",
    "        print('hi')\n",
    "        break\n",
    "    if (predictions[i]==valid_y[i]):\n",
    "        correctIndices.append(i)\n",
    "    else:\n",
    "        incorrectIndices.append(i)\n",
    "    "
   ]
  },
  {
   "cell_type": "markdown",
   "metadata": {},
   "source": [
    "# CORRECT PREDICTIONS"
   ]
  },
  {
   "cell_type": "code",
   "execution_count": 273,
   "metadata": {
    "collapsed": false
   },
   "outputs": [
    {
     "data": {
      "text/plain": [
       "<matplotlib.image.AxesImage at 0x1136245f8>"
      ]
     },
     "execution_count": 273,
     "metadata": {},
     "output_type": "execute_result"
    },
    {
     "data": {
      "image/png": "[encoded data removed]",
      "text/plain": [
       "<matplotlib.figure.Figure at 0x1131217b8>"
      ]
     },
     "metadata": {},
     "output_type": "display_data"
    },
    {
     "data": {
      "image/png": "[encoded data removed]",
      "text/plain": [
       "<matplotlib.figure.Figure at 0x112e13c18>"
      ]
     },
     "metadata": {},
     "output_type": "display_data"
    },
    {
     "data": {
      "image/png": "[encoded data removed]",
      "text/plain": [
       "<matplotlib.figure.Figure at 0x11325b908>"
      ]
     },
     "metadata": {},
     "output_type": "display_data"
    },
    {
     "data": {
      "image/png": "[encoded data removed]",
      "text/plain": [
       "<matplotlib.figure.Figure at 0x11357f780>"
      ]
     },
     "metadata": {},
     "output_type": "display_data"
    },
    {
     "data": {
      "image/png": "[encoded data removed]",
      "text/plain": [
       "<matplotlib.figure.Figure at 0x113578668>"
      ]
     },
     "metadata": {},
     "output_type": "display_data"
    }
   ],
   "source": [
    "fig = plt.figure(1)\n",
    "fig.suptitle('prediction: ' + str(predictions[correctIndices[0]]) + \" , actual: \" + str(valid_y[correctIndices[0]][0]))\n",
    "plt.subplot(211)\n",
    "plt.imshow(net.X[correctIndices[0], :-1].reshape(28,28))\n",
    "\n",
    "fig = plt.figure(2)\n",
    "fig.suptitle('prediction: ' + str(predictions[correctIndices[1]]) + \" , actual: \" + str(valid_y[correctIndices[1]][0]))\n",
    "plt.subplot(211)\n",
    "plt.imshow(net.X[correctIndices[1], :-1].reshape(28,28))\n",
    "\n",
    "fig = plt.figure(3)\n",
    "fig.suptitle('prediction: ' + str(predictions[correctIndices[2]]) + \" , actual: \" + str(valid_y[correctIndices[2]][0]))\n",
    "plt.subplot(211)\n",
    "plt.imshow(net.X[correctIndices[2], :-1].reshape(28,28))\n",
    "\n",
    "fig = plt.figure(4)\n",
    "fig.suptitle('prediction: ' + str(predictions[correctIndices[3]]) + \" , actual: \" + str(valid_y[correctIndices[3]][0]))\n",
    "plt.subplot(211)\n",
    "plt.imshow(net.X[correctIndices[3], :-1].reshape(28,28))\n",
    "\n",
    "fig = plt.figure(5)\n",
    "fig.suptitle('prediction: ' + str(predictions[correctIndices[4]]) + \" , actual: \" + str(valid_y[correctIndices[4]][0]))\n",
    "plt.subplot(211)\n",
    "plt.imshow(net.X[correctIndices[4], :-1].reshape(28,28))"
   ]
  },
  {
   "cell_type": "code",
   "execution_count": null,
   "metadata": {
    "collapsed": true
   },
   "outputs": [],
   "source": []
  },
  {
   "cell_type": "code",
   "execution_count": null,
   "metadata": {
    "collapsed": true
   },
   "outputs": [],
   "source": []
  },
  {
   "cell_type": "code",
   "execution_count": null,
   "metadata": {
    "collapsed": true
   },
   "outputs": [],
   "source": []
  },
  {
   "cell_type": "code",
   "execution_count": null,
   "metadata": {
    "collapsed": true
   },
   "outputs": [],
   "source": []
  },
  {
   "cell_type": "code",
   "execution_count": null,
   "metadata": {
    "collapsed": true
   },
   "outputs": [],
   "source": []
  },
  {
   "cell_type": "markdown",
   "metadata": {},
   "source": [
    "# INCORRECT PREDICTIONS"
   ]
  },
  {
   "cell_type": "code",
   "execution_count": 274,
   "metadata": {
    "collapsed": false
   },
   "outputs": [
    {
     "data": {
      "text/plain": [
       "<matplotlib.image.AxesImage at 0x116b41ac8>"
      ]
     },
     "execution_count": 274,
     "metadata": {},
     "output_type": "execute_result"
    },
    {
     "data": {
      "image/png": "[encoded data removed]",
      "text/plain": [
       "<matplotlib.figure.Figure at 0x11363c550>"
      ]
     },
     "metadata": {},
     "output_type": "display_data"
    },
    {
     "data": {
      "image/png": "[encoded data removed]",
      "text/plain": [
       "<matplotlib.figure.Figure at 0x11311e198>"
      ]
     },
     "metadata": {},
     "output_type": "display_data"
    },
    {
     "data": {
      "image/png": "[encoded data removed]",
      "text/plain": [
       "<matplotlib.figure.Figure at 0x12808f630>"
      ]
     },
     "metadata": {},
     "output_type": "display_data"
    },
    {
     "data": {
      "image/png": "[encoded data removed]",
      "text/plain": [
       "<matplotlib.figure.Figure at 0x113266630>"
      ]
     },
     "metadata": {},
     "output_type": "display_data"
    },
    {
     "data": {
      "image/png": "[encoded data removed]",
      "text/plain": [
       "<matplotlib.figure.Figure at 0x1280cf6a0>"
      ]
     },
     "metadata": {},
     "output_type": "display_data"
    }
   ],
   "source": [
    "fig = plt.figure(1)\n",
    "fig.suptitle('prediction: ' + str(predictions[incorrectIndices[0]]) + \" , actual: \" + str(valid_y[incorrectIndices[0]][0]))\n",
    "plt.subplot(211)\n",
    "plt.imshow(net.X[incorrectIndices[0], :-1].reshape(28,28))\n",
    "\n",
    "fig = plt.figure(2)\n",
    "fig.suptitle('prediction: ' + str(predictions[incorrectIndices[1]]) + \" , actual: \" + str(valid_y[incorrectIndices[1]][0]))\n",
    "plt.subplot(211)\n",
    "plt.imshow(net.X[incorrectIndices[1], :-1].reshape(28,28))\n",
    "\n",
    "fig = plt.figure(3)\n",
    "fig.suptitle('prediction: ' + str(predictions[incorrectIndices[2]]) + \" , actual: \" + str(valid_y[incorrectIndices[2]][0]))\n",
    "plt.subplot(211)\n",
    "plt.imshow(net.X[incorrectIndices[2], :-1].reshape(28,28))\n",
    "\n",
    "fig = plt.figure(4)\n",
    "fig.suptitle('prediction: ' + str(predictions[incorrectIndices[3]]) + \" , actual: \" + str(valid_y[incorrectIndices[3]][0]))\n",
    "plt.subplot(211)\n",
    "plt.imshow(net.X[incorrectIndices[3], :-1].reshape(28,28))\n",
    "\n",
    "fig = plt.figure(5)\n",
    "fig.suptitle('prediction: ' + str(predictions[incorrectIndices[4]]) + \" , actual: \" + str(valid_y[incorrectIndices[4]][0]))\n",
    "plt.subplot(211)\n",
    "plt.imshow(net.X[incorrectIndices[4], :-1].reshape(28,28))"
   ]
  }
 ],
 "metadata": {
  "anaconda-cloud": {},
  "kernelspec": {
   "display_name": "Python [189hw]",
   "language": "python",
   "name": "Python [189hw]"
  },
  "language_info": {
   "codemirror_mode": {
    "name": "ipython",
    "version": 3
   },
   "file_extension": ".py",
   "mimetype": "text/x-python",
   "name": "python",
   "nbconvert_exporter": "python",
   "pygments_lexer": "ipython3",
   "version": "3.5.2"
  }
 },
 "nbformat": 4,
 "nbformat_minor": 2
}
