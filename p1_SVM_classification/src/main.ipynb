{
 "cells": [
  {
   "cell_type": "code",
   "execution_count": 1,
   "metadata": {
    "collapsed": false
   },
   "outputs": [
    {
     "data": {
      "text/plain": [
       "'\\nCS189 Homework 1\\nMaia Rosengarten, SID: 23572580\\nCollaborators: Anwar Baroudi and Lara McConnaughey\\n\\nKaggle Scores:\\nSpam DataSet - 0.83846 accuracy, position 269\\nMNIST DataSet - 0.94560 accuracy, position 173\\n\\n'"
      ]
     },
     "execution_count": 1,
     "metadata": {},
     "output_type": "execute_result"
    }
   ],
   "source": [
    "'''\n",
    "CS189 Homework 1\n",
    "Maia Rosengarten, SID: 23572580\n",
    "Collaborators: Anwar Baroudi and Lara McConnaughey\n",
    "\n",
    "Kaggle Scores:\n",
    "Spam DataSet - 0.83846 accuracy, position 269\n",
    "MNIST DataSet - 0.94560 accuracy, position 173\n",
    "\n",
    "'''"
   ]
  },
  {
   "cell_type": "code",
   "execution_count": 2,
   "metadata": {
    "collapsed": false
   },
   "outputs": [
    {
     "name": "stderr",
     "output_type": "stream",
     "text": [
      "/Users/maialena/anaconda/envs/189hw/lib/python3.5/site-packages/sklearn/cross_validation.py:44: DeprecationWarning: This module was deprecated in version 0.18 in favor of the model_selection module into which all the refactored classes and functions are moved. Also note that the interface of the new CV iterators are different from that of this module. This module will be removed in 0.20.\n",
      "  \"This module will be removed in 0.20.\", DeprecationWarning)\n",
      "/Users/maialena/anaconda/envs/189hw/lib/python3.5/site-packages/sklearn/grid_search.py:43: DeprecationWarning: This module was deprecated in version 0.18 in favor of the model_selection module into which all the refactored classes and functions are moved. This module will be removed in 0.20.\n",
      "  DeprecationWarning)\n"
     ]
    }
   ],
   "source": [
    "import matplotlib.pyplot as plt\n",
    "%matplotlib inline\n",
    "\n",
    "import numpy as np\n",
    "import scipy as sp\n",
    "from scipy import io\n",
    "from sklearn.svm import SVC\n",
    "from sklearn.model_selection import train_test_split\n",
    "from sklearn.model_selection import cross_val_score, KFold\n",
    "from sklearn import svm, datasets, linear_model, cross_validation, grid_search\n",
    "import csv"
   ]
  },
  {
   "cell_type": "code",
   "execution_count": 3,
   "metadata": {
    "collapsed": true
   },
   "outputs": [],
   "source": [
    "''' \n",
    "Helper Function: plot_accuracy\n",
    "Purpose: Plots Accuracy of Classifier on Input Data\n",
    "Params: \n",
    "        x - list of sample_sizes\n",
    "        Y - Accuracy Scores\n",
    "        name - Name of data_set\n",
    "Return: plots accuracy, returns None\n",
    "'''\n",
    "def plot_accuracy(x, y, name):\n",
    "    plt.plot(x, y)\n",
    "    plt.xlabel('Num_samples')\n",
    "    plt.ylabel('Accuracy')\n",
    "    plt.title(name)\n",
    "    plt.show()"
   ]
  },
  {
   "cell_type": "code",
   "execution_count": 4,
   "metadata": {
    "collapsed": true
   },
   "outputs": [],
   "source": [
    "''' \n",
    "Function: train_svm\n",
    "Purpose: Trains Classifier and Plot Valid Accuracy and Training Accuracy\n",
    "Params:\n",
    "    samples - list of sample_sizes\n",
    "    clf - classifier to train\n",
    "    train_set - training data set\n",
    "    train_y - training labels\n",
    "    valid_set - valid data set\n",
    "    valid_y - valid labels\n",
    "    name - name of data set\n",
    "Return: list of validation accuracies, list of training accuracies across sample sizes\n",
    "'''\n",
    "def train_svm(samples, clf, train_set, train_y, valid_set, valid_y, name):\n",
    "    valid_score, train_score = train_svm_no_plot(samples, clf, train_set, train_y, valid_set, valid_y)\n",
    "    plot_accuracy(samples, train_score, name + ' Training_Accuracy')\n",
    "    plot_accuracy(samples, valid_score, name + ' Validation_Accuracy')\n",
    "    return valid_score, train_score"
   ]
  },
  {
   "cell_type": "code",
   "execution_count": 5,
   "metadata": {
    "collapsed": false
   },
   "outputs": [],
   "source": [
    "'''\n",
    "Function: train_svm_no_plot\n",
    "Purpose: Trains Classifier Without Plot, calls train_svm and plot_accuracy\n",
    "Params: \n",
    "    samples - list of sample_sizes\n",
    "    clf - classifier to train\n",
    "    train_set - training data set\n",
    "    train_y - training labels\n",
    "    valid_set - valid data set\n",
    "    valid_y - valid labels\n",
    "    name - name of data set\n",
    "Return: list of validation accuracies, list of training accuracies across sample sizes\n",
    "'''\n",
    "def train_svm_no_plot(samples, clf, train_set, train_y, valid_set, valid_y):\n",
    "    train_scores = list()\n",
    "    valid_scores = list()\n",
    "    for sample_size in samples:\n",
    "        clf.fit(train_set[:sample_size], train_y[:sample_size])\n",
    "        train_score = clf.score(train_set, train_y)\n",
    "        train_scores.append(train_score)\n",
    "        valid_score = clf.score(valid_set, valid_y)\n",
    "        valid_scores.append(valid_score)\n",
    "    return valid_scores, train_scores\n",
    "\n",
    "\n",
    "\n",
    "\n",
    "\n"
   ]
  },
  {
   "cell_type": "code",
   "execution_count": 6,
   "metadata": {
    "collapsed": false
   },
   "outputs": [
    {
     "name": "stdout",
     "output_type": "stream",
     "text": [
      "PROBLEM 1: DATA PARTITIONING\n",
      "MNIST Sets:\n"
     ]
    }
   ],
   "source": [
    "# -----------MNIST SET-------- #\n",
    "print('PROBLEM 1: DATA PARTITIONING')\n",
    "print('MNIST Sets:')\n",
    "mnist_dict = io.loadmat('../mnist/train.mat')\n",
    "mnist_trainX = mnist_dict['trainX']\n",
    "mnist_train_set, mnist_valid_set, mnist_train_y, mnist_valid_y = train_test_split(mnist_trainX[:, :-1], mnist_trainX[:, -1], test_size=10000, random_state=42)"
   ]
  },
  {
   "cell_type": "code",
   "execution_count": 7,
   "metadata": {
    "collapsed": false
   },
   "outputs": [
    {
     "name": "stdout",
     "output_type": "stream",
     "text": [
      "mnist_train_X: (50000, 784)\n",
      "mnist_train_y: (50000,)\n",
      "mnist_valid_X: (10000, 784)\n",
      "mnist_valid_y: (10000,)\n"
     ]
    }
   ],
   "source": [
    "print('mnist_train_X: ' + str(mnist_train_set.shape))\n",
    "print('mnist_train_y: ' + str(mnist_train_y.shape))\n",
    "print('mnist_valid_X: ' + str(mnist_valid_set.shape))\n",
    "print('mnist_valid_y: ' + str(mnist_valid_y.shape))"
   ]
  },
  {
   "cell_type": "code",
   "execution_count": 8,
   "metadata": {
    "collapsed": false
   },
   "outputs": [
    {
     "name": "stdout",
     "output_type": "stream",
     "text": [
      "CIFAR Sets:\n"
     ]
    }
   ],
   "source": [
    "# -----------CIFAR-10 SET -------- \n",
    "print('CIFAR Sets:')\n",
    "cifar_dict = sp.io.loadmat('../cifar/train.mat')\n",
    "cifar_trainX = cifar_dict['trainX']\n",
    "cifar_train_set, cifar_valid_set, cifar_train_y, cifar_valid_y = train_test_split(cifar_trainX[:, :-1], cifar_trainX[:, -1], test_size=5000, random_state=42)"
   ]
  },
  {
   "cell_type": "code",
   "execution_count": 9,
   "metadata": {
    "collapsed": false
   },
   "outputs": [
    {
     "name": "stdout",
     "output_type": "stream",
     "text": [
      "cifar_train_X: (45000, 3072)\n",
      "cifar_train_y: (45000,)\n",
      "cifar_valid_X: (5000, 3072)\n",
      "cifar_valid_y: (5000,)\n"
     ]
    }
   ],
   "source": [
    "print('cifar_train_X: ' + str(cifar_train_set.shape))\n",
    "print('cifar_train_y: ' + str(cifar_train_y.shape))\n",
    "print('cifar_valid_X: ' + str(cifar_valid_set.shape))\n",
    "print('cifar_valid_y: ' + str(cifar_valid_y.shape))"
   ]
  },
  {
   "cell_type": "code",
   "execution_count": 10,
   "metadata": {
    "collapsed": false
   },
   "outputs": [
    {
     "name": "stdout",
     "output_type": "stream",
     "text": [
      "SPAM Sets:\n"
     ]
    }
   ],
   "source": [
    "# --------------SPAM DataSet ----------------\n",
    "print('SPAM Sets:')\n",
    "spam_dict = sp.io.loadmat('../spam/spam_data.mat')\n",
    "spam_trainX= spam_dict['training_data']\n",
    "spam_labels = spam_dict['training_labels']\n",
    "spam_train_set, spam_valid_set, spam_train_y, spam_valid_y = train_test_split(spam_trainX, spam_labels.T, test_size=0.2, random_state=42)"
   ]
  },
  {
   "cell_type": "code",
   "execution_count": 13,
   "metadata": {
    "collapsed": false
   },
   "outputs": [
    {
     "name": "stdout",
     "output_type": "stream",
     "text": [
      "spam_train_X: (4137, 32)\n",
      "spam_train_y: (4137, 1)\n",
      "spam_valid_X: (1035, 32)\n",
      "spam_valid_y: (1035, 1)\n"
     ]
    }
   ],
   "source": [
    "print('spam_train_X: ' + str(spam_train_set.shape))\n",
    "print('spam_train_y: ' + str(spam_train_y.shape))\n",
    "print('spam_valid_X: ' + str(spam_valid_set.shape))\n",
    "print('spam_valid_y: ' + str(spam_valid_y.shape))"
   ]
  },
  {
   "cell_type": "code",
   "execution_count": 14,
   "metadata": {
    "collapsed": false
   },
   "outputs": [],
   "source": [
    "'''\n",
    "Helper Function: print_scores\n",
    "Purpose: Prints classifer's validation and training accuracies\n",
    "Param:\n",
    "    experiments - list of sample_sizes\n",
    "    valid_scores - validation accuracies after running train_svm\n",
    "    train_scores - training accuracies after running train_svm\n",
    "Return: Null, instead print 'Sample Size: valid_score, train_score'\n",
    "\n",
    "'''\n",
    "def print_scores(experiments, valid_scores, train_scores):\n",
    "    print('Sample Size: valid_score, train_score')\n",
    "    for i in range(len(experiments)):\n",
    "        print(str(experiments[i]) + ': ' + str(valid_scores[i]) + ', ' + str(train_scores[i]))"
   ]
  },
  {
   "cell_type": "code",
   "execution_count": 15,
   "metadata": {
    "collapsed": false
   },
   "outputs": [
    {
     "name": "stdout",
     "output_type": "stream",
     "text": [
      "PROBLEM 2: SUPPORT VECTOR MACHINES\n",
      "Training MNIST\n"
     ]
    },
    {
     "data": {
      "image/png": "[encoded data removed]",
      "text/plain": [
       "<matplotlib.figure.Figure at 0x10354e400>"
      ]
     },
     "metadata": {},
     "output_type": "display_data"
    },
    {
     "data": {
      "image/png": "[encoded data removed]",
      "text/plain": [
       "<matplotlib.figure.Figure at 0x1020cf160>"
      ]
     },
     "metadata": {},
     "output_type": "display_data"
    },
    {
     "name": "stdout",
     "output_type": "stream",
     "text": [
      "Sample Size: valid_score, train_score\n",
      "100: 0.6908, 0.69646\n",
      "200: 0.8101, 0.81514\n",
      "500: 0.8686, 0.8658\n",
      "1000: 0.882, 0.88408\n",
      "2000: 0.8967, 0.89828\n",
      "5000: 0.9084, 0.9148\n",
      "10000: 0.9092, 0.92634\n"
     ]
    }
   ],
   "source": [
    "'''\n",
    "PROBLEM 2: TRAIN CLASSIFIERS AND PLOT ACCURACY\n",
    "'''\n",
    "\n",
    "print('PROBLEM 2: SUPPORT VECTOR MACHINES')\n",
    "# ----------TRAIN MNIST DATA------------#\n",
    "# expect between 70-90% accuracy\n",
    "print(\"Training MNIST\")\n",
    "clf_mnist = SVC(kernel=\"linear\")\n",
    "experiments = [100, 200, 500, 1000, 2000, 5000, 10000]\n",
    "valid_scores, train_scores = train_svm(experiments, clf_mnist, mnist_train_set, mnist_train_y, mnist_valid_set, mnist_valid_y,\n",
    "          'MNIST')\n",
    "print_scores(experiments, valid_scores, train_scores)\n",
    "    "
   ]
  },
  {
   "cell_type": "code",
   "execution_count": 16,
   "metadata": {
    "collapsed": false
   },
   "outputs": [
    {
     "name": "stdout",
     "output_type": "stream",
     "text": [
      "Training CIFAR\n"
     ]
    },
    {
     "data": {
      "image/png": "[encoded data removed]",
      "text/plain": [
       "<matplotlib.figure.Figure at 0x104780a20>"
      ]
     },
     "metadata": {},
     "output_type": "display_data"
    },
    {
     "data": {
      "image/png": "[encoded data removed]",
      "text/plain": [
       "<matplotlib.figure.Figure at 0x10c3fe0b8>"
      ]
     },
     "metadata": {},
     "output_type": "display_data"
    },
    {
     "name": "stdout",
     "output_type": "stream",
     "text": [
      "Sample Size: valid_score, train_score\n",
      "100: 0.6908, 0.69646\n",
      "200: 0.8101, 0.81514\n",
      "500: 0.8686, 0.8658\n",
      "1000: 0.882, 0.88408\n",
      "2000: 0.8967, 0.89828\n",
      "5000: 0.9084, 0.9148\n"
     ]
    }
   ],
   "source": [
    "# -----------TRAIN CIFAR DATA-----------#\n",
    "# expect between 25-35% accuracy\n",
    "print(\"Training CIFAR\")\n",
    "clf_cifar = SVC(kernel='linear')\n",
    "experiments = [100, 200, 500, 1000, 2000, 5000]\n",
    "valid_error, train_error = train_svm(experiments, clf_cifar, cifar_train_set, cifar_train_y, cifar_valid_set, cifar_valid_y, 'CIFAR')\n",
    "print_scores(experiments, valid_scores, train_scores)"
   ]
  },
  {
   "cell_type": "code",
   "execution_count": 17,
   "metadata": {
    "collapsed": false
   },
   "outputs": [
    {
     "name": "stdout",
     "output_type": "stream",
     "text": [
      "Training SPAM\n"
     ]
    },
    {
     "data": {
      "image/png": "[encoded data removed]",
      "text/plain": [
       "<matplotlib.figure.Figure at 0x130e82cc0>"
      ]
     },
     "metadata": {},
     "output_type": "display_data"
    },
    {
     "data": {
      "image/png": "[encoded data removed]",
      "text/plain": [
       "<matplotlib.figure.Figure at 0x13106f550>"
      ]
     },
     "metadata": {},
     "output_type": "display_data"
    },
    {
     "name": "stdout",
     "output_type": "stream",
     "text": [
      "Sample Size: valid_score, train_score\n",
      "100: 0.6908, 0.69646\n",
      "200: 0.8101, 0.81514\n",
      "500: 0.8686, 0.8658\n",
      "1000: 0.882, 0.88408\n",
      "2000: 0.8967, 0.89828\n",
      "4137: 0.9084, 0.9148\n"
     ]
    }
   ],
   "source": [
    "# ----------TRAIN SPAM DATA -------------#\n",
    "# expect between 70-90% accuracy\n",
    "print(\"Training SPAM\")\n",
    "clf_spam = SVC(kernel=\"linear\")\n",
    "experiments = [100, 200, 500, 1000, 2000, 4137]\n",
    "valid_error, train_error = train_svm(experiments, clf_spam, spam_train_set, spam_train_y.ravel(), spam_valid_set, spam_valid_y, 'SPAM')\n",
    "print_scores(experiments, valid_scores, train_scores)"
   ]
  },
  {
   "cell_type": "code",
   "execution_count": 18,
   "metadata": {
    "collapsed": false
   },
   "outputs": [
    {
     "name": "stdout",
     "output_type": "stream",
     "text": [
      "PROBLEM 3: HYPERPARAMETER TUNING\n",
      "Input: MNIST Set, 10000 Sample Points\n"
     ]
    }
   ],
   "source": [
    "'''\n",
    "PROBLEM 3: FIND BEST C VALUE MNIST SET\n",
    "'''\n",
    "print('PROBLEM 3: HYPERPARAMETER TUNING')\n",
    "print('Input: MNIST Set, 10000 Sample Points')\n",
    "\n",
    "'''\n",
    "Function: find_best_C\n",
    "Purpose: Returns best c_value on given data set\n",
    "Param:\n",
    "    c_values - range of C values to test\n",
    "    train_set - training data\n",
    "    train_y - training labels\n",
    "    valid_set - validation data\n",
    "    valid_y - validation labels\n",
    "Returns: best C value \n",
    "'''\n",
    "def find_best_C(c_values, experiments, train_set, train_y, valid_set, valid_y):\n",
    "    scores = list()\n",
    "    experiments = [10000]\n",
    "    for c in c_values:\n",
    "        print('C value: ' + str(c))\n",
    "        clf_mnist = SVC(C=c, kernel=\"linear\")\n",
    "        valid_scores, train_scores = train_svm_no_plot(experiments, clf_mnist, mnist_train_set, mnist_train_y, mnist_valid_set, mnist_valid_y)\n",
    "        scores.append(valid_scores[0])\n",
    "        print('valid_score ' + str(valid_scores[0]))\n",
    "#     print('scores are ' + str(scores))\n",
    "    best_score = max(scores)\n",
    "    index = scores.index(best_score)\n",
    "    best_c = c_values[index]\n",
    "    print('The results are in! Best C for MNIST set: ' + str(best_c) + \" with valid score: \" + str(best_score))\n",
    "\n"
   ]
  },
  {
   "cell_type": "code",
   "execution_count": 19,
   "metadata": {
    "collapsed": false
   },
   "outputs": [
    {
     "name": "stdout",
     "output_type": "stream",
     "text": [
      "Testing small C-values\n",
      "C value: 0.01\n",
      "valid_score 0.9092\n",
      "C value: 0.001\n",
      "valid_score 0.9092\n",
      "C value: 0.0001\n",
      "valid_score 0.9095\n",
      "C value: 1e-05\n",
      "valid_score 0.9159\n",
      "C value: 1e-06\n",
      "valid_score 0.9319\n",
      "C value: 1e-07\n",
      "valid_score 0.923\n",
      "C value: 1e-08\n",
      "valid_score 0.8934\n",
      "C value: 1e-09\n",
      "valid_score 0.6473\n",
      "The results are in! Best C for MNIST set: 1e-06 with valid score: 0.9319\n"
     ]
    }
   ],
   "source": [
    "# ATTEMPT 1: SMALL C-VALUES\n",
    "print('Testing small C-values')\n",
    "C_range = [.01, .001, .0001, .00001, .000001, .0000001, .00000001, .000000001]\n",
    "experiments = [10000]\n",
    "find_best_C(C_range, experiments, mnist_train_set, mnist_train_y, mnist_valid_set, mnist_valid_y)"
   ]
  },
  {
   "cell_type": "code",
   "execution_count": 20,
   "metadata": {
    "collapsed": false
   },
   "outputs": [
    {
     "name": "stdout",
     "output_type": "stream",
     "text": [
      "Testing C-values close to 10^-6\n",
      "C value: 2e-06\n",
      "valid_score 0.9277\n",
      "C value: 3e-06\n",
      "valid_score 0.923\n",
      "C value: 4e-06\n",
      "valid_score 0.921\n",
      "C value: 5e-06\n",
      "valid_score 0.9202\n",
      "C value: 6e-06\n",
      "valid_score 0.9182\n",
      "The results are in! Best C for MNIST set: 2e-06 with valid score: 0.9277\n"
     ]
    }
   ],
   "source": [
    "# ATTEMPT 2: SMALL C-VALUES CLOSE TO 10^-6\n",
    "print('Testing C-values close to 10^-6')\n",
    "C_range = [.000002, .000003, .000004, .000005, .000006]\n",
    "experiments = [10000]\n",
    "find_best_C(C_range, experiments, mnist_train_set, mnist_train_y, mnist_valid_set, mnist_valid_y)"
   ]
  },
  {
   "cell_type": "code",
   "execution_count": 21,
   "metadata": {
    "collapsed": false
   },
   "outputs": [
    {
     "name": "stdout",
     "output_type": "stream",
     "text": [
      "Testing largeish C-values\n",
      "C value: 1\n",
      "valid_score 0.9092\n",
      "C value: 5\n",
      "valid_score 0.9092\n",
      "C value: 10\n",
      "valid_score 0.9092\n",
      "C value: 100\n",
      "valid_score 0.9092\n",
      "The results are in! Best C for MNIST set: 1 with valid score: 0.9092\n"
     ]
    }
   ],
   "source": [
    "# ATTEMPT 3: Larger C Values\n",
    "print('Testing largeish C-values')\n",
    "C_range = [1, 5, 10, 100]\n",
    "experiments = [10000]\n",
    "find_best_C(C_range, experiments, mnist_train_set, mnist_train_y, mnist_valid_set, mnist_valid_y)"
   ]
  },
  {
   "cell_type": "code",
   "execution_count": 22,
   "metadata": {
    "collapsed": false
   },
   "outputs": [
    {
     "name": "stdout",
     "output_type": "stream",
     "text": [
      "PROBLEM 4: K-FOLD CROSS VALIDATION\n"
     ]
    }
   ],
   "source": [
    "'''\n",
    "PROBLEM 4: K-FOLD\n",
    "'''\n",
    "print('PROBLEM 4: K-FOLD CROSS VALIDATION')"
   ]
  },
  {
   "cell_type": "code",
   "execution_count": 23,
   "metadata": {
    "collapsed": false
   },
   "outputs": [],
   "source": [
    "'''\n",
    "Function: k_fold_score\n",
    "Purpose: compute validation score using k-fold algorithm\n",
    "Param:\n",
    "    data_set - trainnig data to partition\n",
    "    labels - labels corresponding to training data\n",
    "    k - number of partitions\n",
    "Return: mean of validation scores\n",
    "    \n",
    "'''\n",
    "\n",
    "def k_fold_score(data_set, labels, clf, k):\n",
    "    kf_total = cross_validation.KFold(data_set.shape[0], n_folds=5, shuffle=True, random_state=4)\n",
    "    scores = cross_validation.cross_val_score(clf, data_set, labels, cv=kf_total, n_jobs = 1)\n",
    "    return scores.mean()\n",
    "\n"
   ]
  },
  {
   "cell_type": "code",
   "execution_count": 24,
   "metadata": {
    "collapsed": false
   },
   "outputs": [],
   "source": [
    "'''\n",
    "    Function find_best_C_kfold()\n",
    "    Purpose: Print best C value and associated valid score using kfold algorithm\n",
    "    Params\n",
    "        c-values - list of C values to test\n",
    "    Return - best c_value to use\n",
    "'''\n",
    "\n",
    "def find_best_C_kfold(c_values, train_data, labels, n_folds):\n",
    "    scores = list() \n",
    "    print('c-value: score')\n",
    "    for c in c_values:\n",
    "        clf = SVC(C=c)\n",
    "        score = k_fold_score(train_data, labels.T.ravel(), clf, n_folds)\n",
    "        scores.append(score)\n",
    "        print(str(c) + ': ' + str(score))\n",
    "    best_score = max(scores)\n",
    "    index = scores.index(best_score)\n",
    "    best_c = c_values[index]\n",
    "    print('Results are in! Best C-Value is ' + str(best_c) + ' with score ' + str(best_score))\n",
    "    return best_c\n",
    "\n",
    "    "
   ]
  },
  {
   "cell_type": "code",
   "execution_count": 25,
   "metadata": {
    "collapsed": false
   },
   "outputs": [
    {
     "name": "stdout",
     "output_type": "stream",
     "text": [
      "Testing C-Values with Fold Algorithm\n",
      "c-value: score\n",
      "100: 0.828884964352\n",
      "10: 0.828886085648\n",
      "1: 0.821731842009\n",
      "0.1: 0.766626860651\n",
      "0.001: 0.709976172455\n",
      "0.0001: 0.709976172455\n",
      "1e-05: 0.709976172455\n",
      "1e-06: 0.709976172455\n",
      "Results are in! Best C-Value is 10 with score 0.828886085648\n"
     ]
    },
    {
     "data": {
      "text/plain": [
       "10"
      ]
     },
     "execution_count": 25,
     "metadata": {},
     "output_type": "execute_result"
    }
   ],
   "source": [
    "print(\"Testing C-Values with Fold Algorithm\")\n",
    "\n",
    "# Testing values of C from 10^-6 to 100\n",
    "c_values = [100, 10, 1, .1, .001, .0001, .00001, .000001]\n",
    "n_folds = 5\n",
    "find_best_C_kfold(c_values, spam_trainX, spam_labels.T.ravel(), n_folds)"
   ]
  },
  {
   "cell_type": "code",
   "execution_count": 26,
   "metadata": {
    "collapsed": false
   },
   "outputs": [
    {
     "name": "stdout",
     "output_type": "stream",
     "text": [
      "c-value: score\n",
      "200: 0.825984731683\n",
      "300: 0.824631327148\n",
      "400: 0.825792055616\n",
      "500: 0.824439398611\n",
      "600: 0.822892570478\n",
      "700: 0.822699520646\n",
      "800: 0.823279978322\n",
      "1000: 0.821926386903\n",
      "5000: 0.81844513591\n",
      "10000: 0.817286276269\n",
      "Results are in! Best C-Value is 200 with score 0.825984731683\n"
     ]
    },
    {
     "data": {
      "text/plain": [
       "200"
      ]
     },
     "execution_count": 26,
     "metadata": {},
     "output_type": "execute_result"
    }
   ],
   "source": [
    "# Testing values of C from 200 to 10000\n",
    "c_values = [200, 300, 400, 500, 600, 700, 800, 1000, 5000, 10000]\n",
    "n_folds = 5\n",
    "find_best_C_kfold(c_values, spam_trainX, spam_labels.T.ravel(), n_folds)\n"
   ]
  },
  {
   "cell_type": "markdown",
   "metadata": {},
   "source": [
    "\n"
   ]
  },
  {
   "cell_type": "code",
   "execution_count": 27,
   "metadata": {
    "collapsed": true
   },
   "outputs": [],
   "source": [
    "# ****************** PROBLEM 5: KAGGLE COMPETITION ***************\n"
   ]
  },
  {
   "cell_type": "code",
   "execution_count": 28,
   "metadata": {
    "collapsed": true
   },
   "outputs": [],
   "source": [
    "# --------------- EXPERIMENT WITH MNIST CLF HYPER-PARAMETERS ------------------------#"
   ]
  },
  {
   "cell_type": "code",
   "execution_count": 29,
   "metadata": {
    "collapsed": false
   },
   "outputs": [],
   "source": [
    "'''\n",
    "Function: generate_csv\n",
    "Purpose: predict training_data, write results to csv file\n",
    "Param: N/A\n",
    "Return: N/A, instead generates .csv file for kaggle submission\n",
    "'''\n",
    "def generate_csv(test_data, train_data, train_labels, c_value, csv_file_name):\n",
    "    clf = SVC(C=c_value, kernel='linear')\n",
    "    clf.fit(train_data, train_labels)\n",
    "    predicted_labels = clf.predict(test_data)\n",
    "    with open(csv_file_name + '.csv', 'w') as csvfile:\n",
    "        writer = csv.writer(csvfile)\n",
    "        for i in range(len(predicted_labels)):\n",
    "            writer.writerow([i, predicted_labels[i]])\n",
    "    csvfile.close()\n",
    "    print()\n",
    "    \n",
    "    \n",
    "    "
   ]
  },
  {
   "cell_type": "code",
   "execution_count": 30,
   "metadata": {
    "collapsed": false
   },
   "outputs": [
    {
     "name": "stdout",
     "output_type": "stream",
     "text": [
      "\n"
     ]
    }
   ],
   "source": [
    "# Generate mnist csv submission\n",
    "mnist_data = io.loadmat('../mnist/test.mat')['testX']\n",
    "c_value = .000001\n",
    "generate_csv(mnist_data, mnist_train_set, mnist_train_y, c_value, 'mnist_friday_kaggle.csv')"
   ]
  },
  {
   "cell_type": "code",
   "execution_count": 31,
   "metadata": {
    "collapsed": false
   },
   "outputs": [
    {
     "name": "stdout",
     "output_type": "stream",
     "text": [
      "\n"
     ]
    }
   ],
   "source": [
    "# Generate spam csv submission\n",
    "spam_data = sp.io.loadmat('../spam/spam_data.mat')['test_data']\n",
    "c_value = 10\n",
    "generate_csv(spam_data, spam_train_set, spam_train_y.ravel(), c_value, 'spam_friday_kaggle.csv')"
   ]
  },
  {
   "cell_type": "code",
   "execution_count": null,
   "metadata": {
    "collapsed": true
   },
   "outputs": [],
   "source": []
  }
 ],
 "metadata": {
  "anaconda-cloud": {},
  "kernelspec": {
   "display_name": "Python [189hw]",
   "language": "python",
   "name": "Python [189hw]"
  },
  "language_info": {
   "codemirror_mode": {
    "name": "ipython",
    "version": 3
   },
   "file_extension": ".py",
   "mimetype": "text/x-python",
   "name": "python",
   "nbconvert_exporter": "python",
   "pygments_lexer": "ipython3",
   "version": "3.5.2"
  }
 },
 "nbformat": 4,
 "nbformat_minor": 0
}
